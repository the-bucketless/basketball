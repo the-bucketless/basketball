{
  "nbformat": 4,
  "nbformat_minor": 0,
  "metadata": {
    "colab": {
      "provenance": [],
      "collapsed_sections": [],
      "authorship_tag": "ABX9TyOZk10WtALjyUFBDy0YU4h4",
      "include_colab_link": true
    },
    "kernelspec": {
      "name": "python3",
      "display_name": "Python 3"
    },
    "language_info": {
      "name": "python"
    }
  },
  "cells": [
    {
      "cell_type": "markdown",
      "metadata": {
        "id": "view-in-github",
        "colab_type": "text"
      },
      "source": [
        "<a href=\"https://colab.research.google.com/github/the-bucketless/basketball/blob/main/fiba_shot_chart.ipynb\" target=\"_parent\"><img src=\"https://colab.research.google.com/assets/colab-badge.svg\" alt=\"Open In Colab\"/></a>"
      ]
    },
    {
      "cell_type": "markdown",
      "source": [
        "# FIBA Shot Chart"
      ],
      "metadata": {
        "id": "9eEE4SJ-zLv7"
      }
    },
    {
      "cell_type": "markdown",
      "source": [
        "This is a quick notebook I threw together to show how to access a couple different areas of the FIBA API. It's going to look at putting together a shot chart like the one displayed for games."
      ],
      "metadata": {
        "id": "TRrU9O7dzOkF"
      }
    },
    {
      "cell_type": "code",
      "source": [
        "!pip install hockey-rink -q"
      ],
      "metadata": {
        "colab": {
          "base_uri": "https://localhost:8080/"
        },
        "id": "MzGEBEQNpVaZ",
        "outputId": "41fb41ec-0076-41a8-cddf-b790bbb3dfb0"
      },
      "execution_count": 1,
      "outputs": [
        {
          "output_type": "stream",
          "name": "stdout",
          "text": [
            "  Building wheel for hockey-rink (setup.py) ... \u001b[?25l\u001b[?25hdone\n"
          ]
        }
      ]
    },
    {
      "cell_type": "code",
      "execution_count": 2,
      "metadata": {
        "id": "SU5d1gHJRn09"
      },
      "outputs": [],
      "source": [
        "from hockey_rink import Rink, RinkCircle, RinkFeature, RinkRectangle\n",
        "import json\n",
        "from matplotlib.patches import Circle\n",
        "import matplotlib.pyplot as plt\n",
        "import pandas as pd\n",
        "import requests"
      ]
    },
    {
      "cell_type": "markdown",
      "source": [
        "This is the ID for the 2022 Women's World Cup. I haven't tested to see if it works on any others."
      ],
      "metadata": {
        "id": "GOl6D4hXzF3J"
      }
    },
    {
      "cell_type": "code",
      "source": [
        "tournament_id = 208410    #@param"
      ],
      "metadata": {
        "id": "V39QLkNyRwRt"
      },
      "execution_count": 3,
      "outputs": []
    },
    {
      "cell_type": "markdown",
      "source": [
        "## Schedule"
      ],
      "metadata": {
        "id": "734uZyZP0Ap8"
      }
    },
    {
      "cell_type": "markdown",
      "source": [
        "We'll start by grabbing the schedule. From this, we can see which games are likely to be available and grab the \"GameKey\" for them."
      ],
      "metadata": {
        "id": "3xgPAEgOS7YX"
      }
    },
    {
      "cell_type": "code",
      "source": [
        "schedule_url = (\n",
        "    \"https://livecache.sportresult.com/node/db/FIBASTATS_PROD/\"\n",
        "    f\"{tournament_id}_SCHEDULELS_JSON.json\"\n",
        ")\n",
        "response = requests.get(schedule_url)\n",
        "schedule_json = json.loads(response.text)\n",
        "schedule_games = schedule_json[\"content\"][\"full\"][\"Games\"]\n",
        "\n",
        "schedule_df = (    \n",
        "    pd.json_normalize(schedule_games.values())\n",
        "    .pipe(lambda df_: df_.rename(columns={c: c.replace(\".\", \"_\") for c in df_.columns}))\n",
        ")"
      ],
      "metadata": {
        "id": "-jTpqt7GRtYO"
      },
      "execution_count": 4,
      "outputs": []
    },
    {
      "cell_type": "markdown",
      "source": [
        "Games with status \"E\" seem to be the ones that are completed or in process. The GameKey is used to access the data from other sections of the API."
      ],
      "metadata": {
        "id": "pe3DSjb2zzYx"
      }
    },
    {
      "cell_type": "code",
      "source": [
        "(\n",
        "    schedule_df\n",
        "    .query(\"Stats_PStatus == 'E'\")\n",
        "    [[\"GameKey\", \"CompetitorA_TeamCode\", \"CompetitorB_TeamCode\"]]\n",
        "    .sort_values(\"GameKey\")\n",
        ")"
      ],
      "metadata": {
        "colab": {
          "base_uri": "https://localhost:8080/",
          "height": 488
        },
        "id": "zm1lFiI0TqMd",
        "outputId": "55fd9d2b-0db0-413b-d130-6be216918959"
      },
      "execution_count": 5,
      "outputs": [
        {
          "output_type": "execute_result",
          "data": {
            "text/plain": [
              "      GameKey CompetitorA_TeamCode CompetitorB_TeamCode\n",
              "10  26606-A-1                  USA                  BEL\n",
              "6   26606-A-2                  KOR                  CHN\n",
              "7   26606-A-3                  BIH                  PUR\n",
              "4   26606-A-4                  BEL                  KOR\n",
              "5   26606-A-5                  PUR                  USA\n",
              "2   26606-A-6                  CHN                  BIH\n",
              "12  26606-A-8                  BIH                  KOR\n",
              "15  26606-A-9                  USA                  CHN\n",
              "22  26606-B-1                  AUS                  FRA\n",
              "25  26606-B-2                  CAN                  SRB\n",
              "23  26606-B-3                  JPN                  MLI\n",
              "18  26606-B-4                  FRA                  CAN\n",
              "17  26606-B-5                  MLI                  AUS\n",
              "20  26606-B-6                  SRB                  JPN"
            ],
            "text/html": [
              "\n",
              "  <div id=\"df-61a72397-e7b1-4f81-9229-8e5c0b31396a\">\n",
              "    <div class=\"colab-df-container\">\n",
              "      <div>\n",
              "<style scoped>\n",
              "    .dataframe tbody tr th:only-of-type {\n",
              "        vertical-align: middle;\n",
              "    }\n",
              "\n",
              "    .dataframe tbody tr th {\n",
              "        vertical-align: top;\n",
              "    }\n",
              "\n",
              "    .dataframe thead th {\n",
              "        text-align: right;\n",
              "    }\n",
              "</style>\n",
              "<table border=\"1\" class=\"dataframe\">\n",
              "  <thead>\n",
              "    <tr style=\"text-align: right;\">\n",
              "      <th></th>\n",
              "      <th>GameKey</th>\n",
              "      <th>CompetitorA_TeamCode</th>\n",
              "      <th>CompetitorB_TeamCode</th>\n",
              "    </tr>\n",
              "  </thead>\n",
              "  <tbody>\n",
              "    <tr>\n",
              "      <th>10</th>\n",
              "      <td>26606-A-1</td>\n",
              "      <td>USA</td>\n",
              "      <td>BEL</td>\n",
              "    </tr>\n",
              "    <tr>\n",
              "      <th>6</th>\n",
              "      <td>26606-A-2</td>\n",
              "      <td>KOR</td>\n",
              "      <td>CHN</td>\n",
              "    </tr>\n",
              "    <tr>\n",
              "      <th>7</th>\n",
              "      <td>26606-A-3</td>\n",
              "      <td>BIH</td>\n",
              "      <td>PUR</td>\n",
              "    </tr>\n",
              "    <tr>\n",
              "      <th>4</th>\n",
              "      <td>26606-A-4</td>\n",
              "      <td>BEL</td>\n",
              "      <td>KOR</td>\n",
              "    </tr>\n",
              "    <tr>\n",
              "      <th>5</th>\n",
              "      <td>26606-A-5</td>\n",
              "      <td>PUR</td>\n",
              "      <td>USA</td>\n",
              "    </tr>\n",
              "    <tr>\n",
              "      <th>2</th>\n",
              "      <td>26606-A-6</td>\n",
              "      <td>CHN</td>\n",
              "      <td>BIH</td>\n",
              "    </tr>\n",
              "    <tr>\n",
              "      <th>12</th>\n",
              "      <td>26606-A-8</td>\n",
              "      <td>BIH</td>\n",
              "      <td>KOR</td>\n",
              "    </tr>\n",
              "    <tr>\n",
              "      <th>15</th>\n",
              "      <td>26606-A-9</td>\n",
              "      <td>USA</td>\n",
              "      <td>CHN</td>\n",
              "    </tr>\n",
              "    <tr>\n",
              "      <th>22</th>\n",
              "      <td>26606-B-1</td>\n",
              "      <td>AUS</td>\n",
              "      <td>FRA</td>\n",
              "    </tr>\n",
              "    <tr>\n",
              "      <th>25</th>\n",
              "      <td>26606-B-2</td>\n",
              "      <td>CAN</td>\n",
              "      <td>SRB</td>\n",
              "    </tr>\n",
              "    <tr>\n",
              "      <th>23</th>\n",
              "      <td>26606-B-3</td>\n",
              "      <td>JPN</td>\n",
              "      <td>MLI</td>\n",
              "    </tr>\n",
              "    <tr>\n",
              "      <th>18</th>\n",
              "      <td>26606-B-4</td>\n",
              "      <td>FRA</td>\n",
              "      <td>CAN</td>\n",
              "    </tr>\n",
              "    <tr>\n",
              "      <th>17</th>\n",
              "      <td>26606-B-5</td>\n",
              "      <td>MLI</td>\n",
              "      <td>AUS</td>\n",
              "    </tr>\n",
              "    <tr>\n",
              "      <th>20</th>\n",
              "      <td>26606-B-6</td>\n",
              "      <td>SRB</td>\n",
              "      <td>JPN</td>\n",
              "    </tr>\n",
              "  </tbody>\n",
              "</table>\n",
              "</div>\n",
              "      <button class=\"colab-df-convert\" onclick=\"convertToInteractive('df-61a72397-e7b1-4f81-9229-8e5c0b31396a')\"\n",
              "              title=\"Convert this dataframe to an interactive table.\"\n",
              "              style=\"display:none;\">\n",
              "        \n",
              "  <svg xmlns=\"http://www.w3.org/2000/svg\" height=\"24px\"viewBox=\"0 0 24 24\"\n",
              "       width=\"24px\">\n",
              "    <path d=\"M0 0h24v24H0V0z\" fill=\"none\"/>\n",
              "    <path d=\"M18.56 5.44l.94 2.06.94-2.06 2.06-.94-2.06-.94-.94-2.06-.94 2.06-2.06.94zm-11 1L8.5 8.5l.94-2.06 2.06-.94-2.06-.94L8.5 2.5l-.94 2.06-2.06.94zm10 10l.94 2.06.94-2.06 2.06-.94-2.06-.94-.94-2.06-.94 2.06-2.06.94z\"/><path d=\"M17.41 7.96l-1.37-1.37c-.4-.4-.92-.59-1.43-.59-.52 0-1.04.2-1.43.59L10.3 9.45l-7.72 7.72c-.78.78-.78 2.05 0 2.83L4 21.41c.39.39.9.59 1.41.59.51 0 1.02-.2 1.41-.59l7.78-7.78 2.81-2.81c.8-.78.8-2.07 0-2.86zM5.41 20L4 18.59l7.72-7.72 1.47 1.35L5.41 20z\"/>\n",
              "  </svg>\n",
              "      </button>\n",
              "      \n",
              "  <style>\n",
              "    .colab-df-container {\n",
              "      display:flex;\n",
              "      flex-wrap:wrap;\n",
              "      gap: 12px;\n",
              "    }\n",
              "\n",
              "    .colab-df-convert {\n",
              "      background-color: #E8F0FE;\n",
              "      border: none;\n",
              "      border-radius: 50%;\n",
              "      cursor: pointer;\n",
              "      display: none;\n",
              "      fill: #1967D2;\n",
              "      height: 32px;\n",
              "      padding: 0 0 0 0;\n",
              "      width: 32px;\n",
              "    }\n",
              "\n",
              "    .colab-df-convert:hover {\n",
              "      background-color: #E2EBFA;\n",
              "      box-shadow: 0px 1px 2px rgba(60, 64, 67, 0.3), 0px 1px 3px 1px rgba(60, 64, 67, 0.15);\n",
              "      fill: #174EA6;\n",
              "    }\n",
              "\n",
              "    [theme=dark] .colab-df-convert {\n",
              "      background-color: #3B4455;\n",
              "      fill: #D2E3FC;\n",
              "    }\n",
              "\n",
              "    [theme=dark] .colab-df-convert:hover {\n",
              "      background-color: #434B5C;\n",
              "      box-shadow: 0px 1px 3px 1px rgba(0, 0, 0, 0.15);\n",
              "      filter: drop-shadow(0px 1px 2px rgba(0, 0, 0, 0.3));\n",
              "      fill: #FFFFFF;\n",
              "    }\n",
              "  </style>\n",
              "\n",
              "      <script>\n",
              "        const buttonEl =\n",
              "          document.querySelector('#df-61a72397-e7b1-4f81-9229-8e5c0b31396a button.colab-df-convert');\n",
              "        buttonEl.style.display =\n",
              "          google.colab.kernel.accessAllowed ? 'block' : 'none';\n",
              "\n",
              "        async function convertToInteractive(key) {\n",
              "          const element = document.querySelector('#df-61a72397-e7b1-4f81-9229-8e5c0b31396a');\n",
              "          const dataTable =\n",
              "            await google.colab.kernel.invokeFunction('convertToInteractive',\n",
              "                                                     [key], {});\n",
              "          if (!dataTable) return;\n",
              "\n",
              "          const docLinkHtml = 'Like what you see? Visit the ' +\n",
              "            '<a target=\"_blank\" href=https://colab.research.google.com/notebooks/data_table.ipynb>data table notebook</a>'\n",
              "            + ' to learn more about interactive tables.';\n",
              "          element.innerHTML = '';\n",
              "          dataTable['output_type'] = 'display_data';\n",
              "          await google.colab.output.renderOutput(dataTable, element);\n",
              "          const docLink = document.createElement('div');\n",
              "          docLink.innerHTML = docLinkHtml;\n",
              "          element.appendChild(docLink);\n",
              "        }\n",
              "      </script>\n",
              "    </div>\n",
              "  </div>\n",
              "  "
            ]
          },
          "metadata": {},
          "execution_count": 5
        }
      ]
    },
    {
      "cell_type": "markdown",
      "source": [
        "## Game Actions"
      ],
      "metadata": {
        "id": "SAGz45Ha0D6H"
      }
    },
    {
      "cell_type": "markdown",
      "source": [
        "For this example, we'll grab the first game shown above."
      ],
      "metadata": {
        "id": "2OcXr2lm0F36"
      }
    },
    {
      "cell_type": "code",
      "source": [
        "game_key = \"26606-A-1\"    #@param {type: \"string\"}"
      ],
      "metadata": {
        "id": "0myp2c71TH1N"
      },
      "execution_count": 6,
      "outputs": []
    },
    {
      "cell_type": "markdown",
      "source": [
        "There are a couple other places I've found that we can hit up, but the shot charts data is in the \"GAMEACTIONS\" section. If you want to check out the others, here's an example of their URLs.\n",
        "```\n",
        "game_url = f\"https://livecache.sportresult.com/node/db/FIBASTATS_PROD/{tournament_id}_GAME_{game_key}_JSON.json\"\n",
        "comp_details_url = \"https://livecache.sportresult.com/node/db/FIBASTATS_PROD/{tournament_id}_COMPDETAILS_{game_key}_JSON.json\"\n",
        "```"
      ],
      "metadata": {
        "id": "_swjzKgwU3ng"
      }
    },
    {
      "cell_type": "markdown",
      "source": [
        "With the game actions, there's one file for each quarter of the game, so we'll keep looking for new files until we fail to hit on one. I haven't checked if games that go to OT follow this same naming convention, but it works for games that end after 4."
      ],
      "metadata": {
        "id": "kV9at9Eh4UcT"
      }
    },
    {
      "cell_type": "code",
      "source": [
        "game_actions_dfs = []\n",
        "quarter = 0\n",
        "while True:\n",
        "    quarter += 1\n",
        "    quarter_url = (\n",
        "        \"https://livecache.sportresult.com/node/db/FIBASTATS_PROD/\"\n",
        "        f\"{tournament_id}_GAMEACTIONS_{game_key}_Q{quarter}_JSON.json\"\n",
        "    )\n",
        "\n",
        "    response = requests.get(quarter_url)\n",
        "\n",
        "    if response.status_code != 200:\n",
        "        break\n",
        "    \n",
        "    game_actions_dfs.append(\n",
        "        pd.json_normalize(json.loads(response.text)[\"content\"][\"full\"][\"Items\"])\n",
        "    )\n",
        "\n",
        "game_actions_df = pd.concat(game_actions_dfs)"
      ],
      "metadata": {
        "id": "9e1SRIWnUyuk"
      },
      "execution_count": 7,
      "outputs": []
    },
    {
      "cell_type": "markdown",
      "source": [
        "## Shot Chart"
      ],
      "metadata": {
        "id": "5YeVJW-m4ZR-"
      }
    },
    {
      "cell_type": "markdown",
      "source": [
        "To display the shot chart, we'll need to draw a court. I'm choosing to do this in a rather ridiculous way. I wanted to see if I could customize my hockey-rink package (you may have noticed the install) to make things into a basketball court. Turns out I can."
      ],
      "metadata": {
        "id": "CuIEHx520xT-"
      }
    },
    {
      "cell_type": "markdown",
      "source": [
        "The court that FIBA uses is 522x280 (the image appears to be 524x282 with a pixel of padding on every side) which makes some of the other dimensions ... well they're not exactly round numbers. So I rounded things to make it simpler. If you can spot the differences, your eyes are better than mine."
      ],
      "metadata": {
        "id": "_wvAnyzv1V_A"
      }
    },
    {
      "cell_type": "code",
      "source": [
        "class CourtArc(RinkFeature):\n",
        "    def _get_centered_xy(self):\n",
        "        arc_x, arc_y = self.arc_coords(\n",
        "            (0, 0), \n",
        "            width=self.radius,\n",
        "            thickness=self.thickness,\n",
        "            theta1=90, \n",
        "            theta2=270, \n",
        "            resolution=self.resolution,\n",
        "        )\n",
        "        \n",
        "        arc_x[0] = self.length\n",
        "        arc_x[-1] = self.length\n",
        "        \n",
        "        return arc_x, arc_y\n",
        "\n",
        "\n",
        "court = Rink(\n",
        "    x_shift=261,\n",
        "    y_shift=140,\n",
        "    boards={\n",
        "        \"class\": RinkRectangle, \n",
        "        \"length\": 522, \n",
        "        \"width\": 280, \n",
        "        \"radius\": 0,\n",
        "        \"color\": \"white\",\n",
        "        \"zorder\": 1,\n",
        "    },\n",
        "    red_line={\"color\": \"white\"},\n",
        "    center_circle={\"color\": \"white\", \"radius\": 33, \"thickness\": 0.5},\n",
        "    **{\n",
        "        feature: {\"visible\": False}\n",
        "        for feature in (\n",
        "            \"ozone\", \"dzone\", \"nzone\", \"blue_line\", \"crease\",\n",
        "            \"net\", \"faceoff_dot\", \"faceoff_circle\", \"center_dot\",\n",
        "            \"goal_line\", \"ref_circle\", \"faceoff_lines\", \"trapezoid\",\n",
        "        )\n",
        "    },\n",
        "    lane={\n",
        "        \"class\": RinkRectangle,\n",
        "        \"color\": \"white\",\n",
        "        \"x\": 207,\n",
        "        \"length\": 108,\n",
        "        \"width\": 90,\n",
        "        \"reflect_x\": True,\n",
        "        \"fill\": False,\n",
        "    },\n",
        "    free_throw_circle={\n",
        "        \"class\": RinkCircle,\n",
        "        \"color\": \"white\",\n",
        "        \"x\": 153,\n",
        "        \"radius\": 33,\n",
        "        \"thickness\": 0.5,\n",
        "        \"reflect_x\": True,\n",
        "    },\n",
        "    three_pt_arc={\n",
        "        \"class\": CourtArc,\n",
        "        \"color\": \"white\",\n",
        "        \"x\": 232,\n",
        "        \"length\": 29,\n",
        "        \"radius\": 126,\n",
        "        \"reflect_x\": True,\n",
        "        \"fill\": False,\n",
        "    },\n",
        "    charge_arc={\n",
        "        \"class\": CourtArc,\n",
        "        \"color\": \"white\",\n",
        "        \"x\": 239,\n",
        "        \"radius\": 23,\n",
        "        \"thickness\": 0.5,\n",
        "        \"reflect_x\": True,\n",
        "    },\n",
        "    backboard={\n",
        "        \"class\": RinkRectangle,\n",
        "        \"color\": \"white\",\n",
        "        \"x\": 240,\n",
        "        \"length\": 0.5,\n",
        "        \"width\": 33,\n",
        "        \"reflect_x\": True,\n",
        "    },\n",
        "    hoop={\n",
        "        \"class\": RinkCircle,\n",
        "        \"color\": \"white\",\n",
        "        \"x\": 232,\n",
        "        \"radius\": 4,\n",
        "        \"thickness\": 0.4,\n",
        "        \"reflect_x\": True,\n",
        "    }\n",
        ")"
      ],
      "metadata": {
        "id": "ouYxDeufpJkI"
      },
      "execution_count": 8,
      "outputs": []
    },
    {
      "cell_type": "code",
      "source": [
        "fig, ax = plt.subplots(figsize=(10, 5), facecolor=\"lightgray\")\n",
        "court.draw(ax=ax);"
      ],
      "metadata": {
        "colab": {
          "base_uri": "https://localhost:8080/",
          "height": 303
        },
        "id": "7WQ6atyNv_Ps",
        "outputId": "e5e88448-26fe-4e78-9999-e19783b36e5d"
      },
      "execution_count": 9,
      "outputs": [
        {
          "output_type": "display_data",
          "data": {
            "text/plain": [
              "<Figure size 720x360 with 1 Axes>"
            ],
            "image/png": "[encoded data removed]"
          },
          "metadata": {}
        }
      ]
    },
    {
      "cell_type": "markdown",
      "source": [
        "Not bad, right?"
      ],
      "metadata": {
        "id": "uCjJrzF52Ouj"
      }
    },
    {
      "cell_type": "markdown",
      "source": [
        "OK, next we need to cut down our dataframe to only include shots. I'm not sure what a lot of the columns are, but I do know that SX and SY are the x and y coordinates and that shots are denoted as one of P2, P3, or FT in the AC column. Free throws aren't included on the shot charts, so we can ignore those."
      ],
      "metadata": {
        "id": "TtHAR9WuXdXA"
      }
    },
    {
      "cell_type": "markdown",
      "source": [
        "While we're at it, we're going to grab each team's ID from the schedule dataframe. If I've done this right, it should have teams shooting in the same direction as shown on the FIBA site."
      ],
      "metadata": {
        "id": "jc0MTA1QsBTh"
      }
    },
    {
      "cell_type": "markdown",
      "source": [
        "We could also recover the colors for each team if we wanted, but that would require us to grab data from a different section of the API. So we'll set those manually instead."
      ],
      "metadata": {
        "id": "N4bnvdYP2osc"
      }
    },
    {
      "cell_type": "code",
      "source": [
        "shots = game_actions_df.query(\"AC in ('P2', 'P3')\")\n",
        "\n",
        "teams = [\n",
        "    f\"T_{team}\" for team in (\n",
        "        schedule_df\n",
        "        .query(\"GameKey == @game_key\")\n",
        "        [[f\"Competitor{team}_TeamId\" for team in \"AB\"]]\n",
        "        .values\n",
        "        .ravel()\n",
        "        .tolist()\n",
        "    )\n",
        "]"
      ],
      "metadata": {
        "id": "ruPQGQA0Wivy"
      },
      "execution_count": 10,
      "outputs": []
    },
    {
      "cell_type": "code",
      "source": [
        "teamA_color = \"red\"    #@param\n",
        "teamB_color = \"yellow\"    #@param"
      ],
      "metadata": {
        "id": "0ccUd3_2w7AM"
      },
      "execution_count": 11,
      "outputs": []
    },
    {
      "cell_type": "markdown",
      "source": [
        "All that's left is the shot chart itself. The x, y coordinates are recorded as on a half court that looks like this:"
      ],
      "metadata": {
        "id": "aFFTw7pY2y09"
      }
    },
    {
      "cell_type": "code",
      "source": [
        "fig, ax = plt.subplots(facecolor=\"lightgray\")\n",
        "court.draw(ax=ax, rotation=270, display_range=\"half\");"
      ],
      "metadata": {
        "colab": {
          "base_uri": "https://localhost:8080/",
          "height": 248
        },
        "id": "5Z4ydu7R27g1",
        "outputId": "93a4c1d5-c165-499f-b3b8-ae4289cbdb39"
      },
      "execution_count": 12,
      "outputs": [
        {
          "output_type": "display_data",
          "data": {
            "text/plain": [
              "<Figure size 432x288 with 1 Axes>"
            ],
            "image/png": "[encoded data removed]"
          },
          "metadata": {}
        }
      ]
    },
    {
      "cell_type": "markdown",
      "source": [
        "Also, both teams' shots are recorded on the same side of the court. So we'll need to transpose the coordinates and flip one team to be on the other side of center. I'm not going to follow the FIBA aesthetic exactly, but it should look close."
      ],
      "metadata": {
        "id": "mLpYGSHy3DwB"
      }
    },
    {
      "cell_type": "code",
      "source": [
        "fig, ax = plt.subplots(figsize=(10, 5), facecolor=\"lightgray\")\n",
        "court.draw(ax=ax, rotation=0)\n",
        "\n",
        "for shot in shots.itertuples():\n",
        "    x = int(shot.SY)\n",
        "    y = int(shot.SX)\n",
        "\n",
        "    if shot.T1 == teams[0]:\n",
        "        color = teamA_color\n",
        "    else:\n",
        "        x = 522 - x\n",
        "        y = 280 - y\n",
        "        color = teamB_color\n",
        "\n",
        "    marker = \"o\" if shot.SU == \"+\" else \"X\"\n",
        "    \n",
        "    court.scatter(\n",
        "        x, y, is_constrained=False, \n",
        "        color=color, alpha=0.5, edgecolor=\"black\", \n",
        "        s=100, marker=marker,\n",
        "    )"
      ],
      "metadata": {
        "colab": {
          "base_uri": "https://localhost:8080/",
          "height": 303
        },
        "id": "4c3OTXijbeNe",
        "outputId": "10a6a7fe-a2d7-45fa-c95f-e9df793de88b"
      },
      "execution_count": 13,
      "outputs": [
        {
          "output_type": "display_data",
          "data": {
            "text/plain": [
              "<Figure size 720x360 with 1 Axes>"
            ],
            "image/png": "[encoded data removed]"
          },
          "metadata": {}
        }
      ]
    },
    {
      "cell_type": "markdown",
      "source": [
        "If you'd like to compare to the FIBA site, this game is:  \n",
        "https://www.fiba.basketball/womensbasketballworldcup/2022/game/2209/USA-Belgium#|tab=shot_chart"
      ],
      "metadata": {
        "id": "a-TXU5vJ48gL"
      }
    }
  ]
}